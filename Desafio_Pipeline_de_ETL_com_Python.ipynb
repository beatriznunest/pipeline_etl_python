{
  "nbformat": 4,
  "nbformat_minor": 0,
  "metadata": {
    "colab": {
      "provenance": [],
      "authorship_tag": "ABX9TyOak0/baWAXyXtsBcopz/hn",
      "include_colab_link": true
    },
    "kernelspec": {
      "name": "python3",
      "display_name": "Python 3"
    },
    "language_info": {
      "name": "python"
    }
  },
  "cells": [
    {
      "cell_type": "markdown",
      "metadata": {
        "id": "view-in-github",
        "colab_type": "text"
      },
      "source": [
        "<a href=\"https://colab.research.google.com/github/beatriznunest/pipeline_etl_python/blob/main/Desafio_Pipeline_de_ETL_com_Python.ipynb\" target=\"_parent\"><img src=\"https://colab.research.google.com/assets/colab-badge.svg\" alt=\"Open In Colab\"/></a>"
      ]
    },
    {
      "cell_type": "markdown",
      "source": [
        "**Extract**\n"
      ],
      "metadata": {
        "id": "ndvQQHZs8VTz"
      }
    },
    {
      "cell_type": "code",
      "source": [
        "sdw2023_api_url = 'https://sdw-2023-prd.up.railway.app'\n"
      ],
      "metadata": {
        "id": "3dtodp1d2FCB"
      },
      "execution_count": 2,
      "outputs": []
    },
    {
      "cell_type": "code",
      "execution_count": 3,
      "metadata": {
        "colab": {
          "base_uri": "https://localhost:8080/"
        },
        "id": "u4vsN1fRwlg6",
        "outputId": "76735015-a7c0-417e-9dd8-3ce404c0d36c"
      },
      "outputs": [
        {
          "output_type": "stream",
          "name": "stdout",
          "text": [
            "[1914, 1915, 1916]\n"
          ]
        }
      ],
      "source": [
        "import pandas as pd\n",
        "\n",
        "df = pd.read_csv('Pipeline_ETL.csv')\n",
        "user_ids = df['UserID'].tolist()\n",
        "print(user_ids)"
      ]
    },
    {
      "cell_type": "code",
      "source": [
        "import requests\n",
        "import json\n",
        "\n",
        "def get_user(id):\n",
        "  response = requests.get(f'{sdw2023_api_url}/users/{id}')\n",
        "  return response.json() if response.status_code == 200 else None\n",
        "\n",
        "users = [user for id in user_ids if (user := get_user(id)) is not None]\n",
        "print(json.dumps(users, indent=2))"
      ],
      "metadata": {
        "colab": {
          "base_uri": "https://localhost:8080/"
        },
        "id": "_97lGUamxwHI",
        "outputId": "3bde1e5f-531a-4c3b-c739-eedfebb87cbd"
      },
      "execution_count": 6,
      "outputs": [
        {
          "output_type": "stream",
          "name": "stdout",
          "text": [
            "[\n",
            "  {\n",
            "    \"id\": 1914,\n",
            "    \"name\": \"Joana\",\n",
            "    \"account\": {\n",
            "      \"id\": 2005,\n",
            "      \"number\": \"1563-2\",\n",
            "      \"agency\": \"0001\",\n",
            "      \"balance\": 0.0,\n",
            "      \"limit\": 500.0\n",
            "    },\n",
            "    \"card\": {\n",
            "      \"id\": 1847,\n",
            "      \"number\": \"**** **** **** 5896\",\n",
            "      \"limit\": 1000.0\n",
            "    },\n",
            "    \"features\": [],\n",
            "    \"news\": []\n",
            "  },\n",
            "  {\n",
            "    \"id\": 1915,\n",
            "    \"name\": \"Cleonice\",\n",
            "    \"account\": {\n",
            "      \"id\": 2006,\n",
            "      \"number\": \"9856-2\",\n",
            "      \"agency\": \"0001\",\n",
            "      \"balance\": 0.0,\n",
            "      \"limit\": 500.0\n",
            "    },\n",
            "    \"card\": {\n",
            "      \"id\": 1848,\n",
            "      \"number\": \"**** **** **** 8953\",\n",
            "      \"limit\": 1000.0\n",
            "    },\n",
            "    \"features\": [],\n",
            "    \"news\": []\n",
            "  },\n",
            "  {\n",
            "    \"id\": 1916,\n",
            "    \"name\": \"Cleiton\",\n",
            "    \"account\": {\n",
            "      \"id\": 2007,\n",
            "      \"number\": \"5896-2\",\n",
            "      \"agency\": \"0001\",\n",
            "      \"balance\": 0.0,\n",
            "      \"limit\": 500.0\n",
            "    },\n",
            "    \"card\": {\n",
            "      \"id\": 1849,\n",
            "      \"number\": \"**** **** **** 9863\",\n",
            "      \"limit\": 1000.0\n",
            "    },\n",
            "    \"features\": [],\n",
            "    \"news\": []\n",
            "  }\n",
            "]\n"
          ]
        }
      ]
    },
    {
      "cell_type": "markdown",
      "source": [
        "**Transform**"
      ],
      "metadata": {
        "id": "1kq6Q5gh8pBX"
      }
    },
    {
      "cell_type": "code",
      "source": [
        "import random\n",
        "\n",
        "with open('msgRandom.txt', 'r') as arquivo:\n",
        "  mensagens = arquivo.readlines()\n",
        "\n",
        "\n",
        "def generate_ai_news(user):\n",
        "  mensagem = random.choice(mensagens).strip()\n",
        "  text = (f\"Ola {user['name']}, {mensagem}\")\n",
        "  return text\n",
        "\n",
        "\n",
        "for user in users:\n",
        "  news = generate_ai_news(user)\n",
        "  print(news)\n",
        "  user['news'].append({\"description\": news})"
      ],
      "metadata": {
        "colab": {
          "base_uri": "https://localhost:8080/"
        },
        "id": "x45dAaRaHWel",
        "outputId": "7e93148e-1212-42e0-e99a-70d41d3bbdac"
      },
      "execution_count": 11,
      "outputs": [
        {
          "output_type": "stream",
          "name": "stdout",
          "text": [
            "Ola Joana, Investir é uma forma de fazer seu dinheiro trabalhar para você.\n",
            "Ola Cleonice, Investir pode ajudar a combater a inflação, preservando o poder de compra.\n",
            "Ola Cleiton, Investir a longo prazo pode gerar retornos significativos ao longo do tempo.\n"
          ]
        }
      ]
    },
    {
      "cell_type": "markdown",
      "source": [
        "**Load**"
      ],
      "metadata": {
        "id": "r_ZcibjFQDSr"
      }
    },
    {
      "cell_type": "code",
      "source": [
        "def update_user(user):\n",
        "  response = requests.put(f\"{sdw2023_api_url}/users/{user['id']}\", json=user)\n",
        "  return True if response.status_code == 200 else False\n",
        "\n",
        "for user in users:\n",
        "  success = update_user(user)\n",
        "  print(f\"User {user['name']} update? {success}!\")\n"
      ],
      "metadata": {
        "colab": {
          "base_uri": "https://localhost:8080/"
        },
        "id": "GkioH-pkQYTV",
        "outputId": "2b9f14f6-451b-42d8-cbf8-344a19e60199"
      },
      "execution_count": 16,
      "outputs": [
        {
          "output_type": "stream",
          "name": "stdout",
          "text": [
            "User Joana update? True!\n",
            "User Cleonice update? True!\n",
            "User Cleiton update? True!\n"
          ]
        }
      ]
    }
  ]
}